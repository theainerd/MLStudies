{
  "cells": [
    {
      "metadata": {
        "_uuid": "8f2839f25d086af736a60e9eeb907d3b93b6e0e5",
        "_cell_guid": "b1076dfc-b9ad-4769-8c92-a6c4dae69d19",
        "trusted": true,
        "collapsed": true
      },
      "cell_type": "code",
      "source": "# This Python 3 environment comes with many helpful analytics libraries installed\n# It is defined by the kaggle/python docker image: https://github.com/kaggle/docker-python\n# For example, here's several helpful packages to load in \n\nimport numpy as np # linear algebra\nimport pandas as pd # data processing, CSV file I/O (e.g. pd.read_csv)\n\n# Input data files are available in the \"../input/\" directory.\n# For example, running this (by clicking run or pressing Shift+Enter) will list the files in the input directory\n\nimport tensorflow as tf",
      "execution_count": 1,
      "outputs": []
    },
    {
      "metadata": {
        "trusted": true,
        "_uuid": "add1d6354a0cdbc7b6d4573b0e58a49afb20ed3c"
      },
      "cell_type": "code",
      "source": "tf.__version__",
      "execution_count": 2,
      "outputs": [
        {
          "output_type": "execute_result",
          "execution_count": 2,
          "data": {
            "text/plain": "'1.9.0-rc0'"
          },
          "metadata": {}
        }
      ]
    },
    {
      "metadata": {
        "_cell_guid": "79c7e3d0-c299-4dcb-8224-4455121ee9b0",
        "_uuid": "d629ff2d2480ee46fbb7e2d37f6b5fab8052498a",
        "trusted": true,
        "collapsed": true
      },
      "cell_type": "code",
      "source": "with tf.Session() as sess:\n    x = tf.constant([[5,6],[7,8]])\n    z = tf.matmul(x,x)\n    # Run graph to get the result of z\n    result = sess.run(z)",
      "execution_count": 3,
      "outputs": []
    },
    {
      "metadata": {
        "trusted": true,
        "_uuid": "760d3e95fa7c3c249f95652dad69e45efdf6effd"
      },
      "cell_type": "code",
      "source": "result",
      "execution_count": 4,
      "outputs": [
        {
          "output_type": "execute_result",
          "execution_count": 4,
          "data": {
            "text/plain": "array([[ 67,  78],\n       [ 91, 106]], dtype=int32)"
          },
          "metadata": {}
        }
      ]
    },
    {
      "metadata": {
        "trusted": true,
        "_uuid": "f8ce844c436d64299ed69b1ea8227408eab1deb4"
      },
      "cell_type": "code",
      "source": "hello = tf.constant(\"Hello TensorFlow ! You are so strange.\")\nprint(hello) # Give a output but does not print",
      "execution_count": 5,
      "outputs": [
        {
          "output_type": "stream",
          "text": "Tensor(\"Const_1:0\", shape=(), dtype=string)\n",
          "name": "stdout"
        }
      ]
    },
    {
      "metadata": {
        "trusted": true,
        "_uuid": "4ab7e151ea9659a25917e690dd2cb5fc35b125ff"
      },
      "cell_type": "code",
      "source": "# Run the hello tensor\nwith tf.Session() as sess:\n    print(sess.run(hello))",
      "execution_count": 6,
      "outputs": [
        {
          "output_type": "stream",
          "text": "b'Hello TensorFlow ! You are so strange.'\n",
          "name": "stdout"
        }
      ]
    },
    {
      "metadata": {
        "trusted": true,
        "collapsed": true,
        "_uuid": "ce541557a6f811042557a9361dfa4f7254a78ea7"
      },
      "cell_type": "code",
      "source": "mnist = tf.keras.datasets.mnist # import mnist dataset",
      "execution_count": 7,
      "outputs": []
    },
    {
      "metadata": {
        "trusted": true,
        "_uuid": "3e22f8737101b7b495136c0e07da278d9b19d0c7",
        "collapsed": true
      },
      "cell_type": "code",
      "source": "",
      "execution_count": null,
      "outputs": []
    },
    {
      "metadata": {
        "trusted": true,
        "collapsed": true,
        "_uuid": "89b27190664e795a8da755f059cb3c1135cc65db"
      },
      "cell_type": "code",
      "source": "",
      "execution_count": null,
      "outputs": []
    }
  ],
  "metadata": {
    "kernelspec": {
      "display_name": "Python 3",
      "language": "python",
      "name": "python3"
    },
    "language_info": {
      "name": "python",
      "version": "3.6.6",
      "mimetype": "text/x-python",
      "codemirror_mode": {
        "name": "ipython",
        "version": 3
      },
      "pygments_lexer": "ipython3",
      "nbconvert_exporter": "python",
      "file_extension": ".py"
    }
  },
  "nbformat": 4,
  "nbformat_minor": 1
}