{
  "cells": [
    {
      "metadata": {
        "_uuid": "7f1f7833c7542748d1831103d10e366f11b60966"
      },
      "cell_type": "markdown",
      "source": "These exercises accompany the tutorial on [booleans and conditionals](https://www.kaggle.com/colinmorris/booleans-and-conditionals).\n\nAs always **be sure to run the setup code below** before working on the questions (and if you leave this notebook and come back later, don't forget to run the setup code again)."
    },
    {
      "metadata": {
        "_uuid": "0ef9d61c4653ddb83c9008c7a946d2afca57f324",
        "trusted": true
      },
      "cell_type": "code",
      "source": "# SETUP. You don't need to worry for now about what this code does or how it works. If you're ever curious about the \n# code behind these exercises, it's available under an open source license here: https://github.com/Kaggle/learntools/\nfrom learntools.core import binder; binder.bind(globals())\nfrom learntools.python.ex3 import *\nprint('Setup complete.')",
      "execution_count": 1,
      "outputs": [
        {
          "output_type": "stream",
          "text": "Setup complete.\n",
          "name": "stdout"
        }
      ]
    },
    {
      "metadata": {
        "_uuid": "21ac65c7a0252fd07f741076834af7b6ffc457e8"
      },
      "cell_type": "markdown",
      "source": "# Exercises"
    },
    {
      "metadata": {
        "_uuid": "420cb49fd41fafe95fc7dbfb073ae311a8a34901"
      },
      "cell_type": "markdown",
      "source": "## 1.\n\nMany programming languages have [sign](https://en.wikipedia.org/wiki/Sign_function) available as a built-in function. Python doesn't, but we can define our own!\n\nIn the cell below, define a function called `sign` which takes a numerical argument and returns -1 if it's negative, 1 if it's positive, and 0 if it's 0."
    },
    {
      "metadata": {
        "_uuid": "48202d53d4e76177d9947a956e64c91395532a4d",
        "trusted": true
      },
      "cell_type": "code",
      "source": "# Your code goes here. Define a function called 'sign'\n\ndef sign(num):\n    if (num < 0):\n        return -1\n    elif (num>0):\n        return 1\n    else:\n        return 0\n\nq1.check()",
      "execution_count": 2,
      "outputs": [
        {
          "output_type": "display_data",
          "data": {
            "text/plain": "Correct",
            "text/markdown": "<span style=\"color:#33cc33\">Correct</span>"
          },
          "metadata": {}
        }
      ]
    },
    {
      "metadata": {
        "collapsed": true,
        "_uuid": "25dee12975b9eeb5f6bb35394a59a20cdcdb1c1b",
        "trusted": true
      },
      "cell_type": "code",
      "source": "#q1.solution()",
      "execution_count": 3,
      "outputs": []
    },
    {
      "metadata": {
        "_uuid": "5ec71dce523988b11fa0dfeda06996315fc6b825"
      },
      "cell_type": "markdown",
      "source": "## 2.\n\nWe've decided to add some simple logging to our `to_smash` function from [the previous exercise](https://www.kaggle.com/kernels/fork/1275158)."
    },
    {
      "metadata": {
        "_uuid": "18c61ff1ad7b3dca21f339472b23f14e9dc0031f",
        "trusted": true
      },
      "cell_type": "code",
      "source": "def to_smash(total_candies):\n    \"\"\"Return the number of leftover candies that must be smashed after distributing\n    the given number of candies evenly between 3 friends.\n    \n    >>> to_smash(91)\n    1\n    \"\"\"\n    print(\"Splitting\", total_candies, \"candies\")\n    return total_candies % 3\n\nto_smash(91)",
      "execution_count": 4,
      "outputs": [
        {
          "output_type": "stream",
          "text": "Splitting 91 candies\n",
          "name": "stdout"
        },
        {
          "output_type": "execute_result",
          "execution_count": 4,
          "data": {
            "text/plain": "1"
          },
          "metadata": {}
        }
      ]
    },
    {
      "metadata": {
        "_uuid": "495cc1cf3f715b070733ded73f92300aa595515a"
      },
      "cell_type": "markdown",
      "source": "But wait, what happens if we call it with `total_candies = 1`?"
    },
    {
      "metadata": {
        "_uuid": "6225b3966605f308237d6d42439cb2e7a0fd1b6b",
        "trusted": true
      },
      "cell_type": "code",
      "source": "to_smash(1)",
      "execution_count": 7,
      "outputs": [
        {
          "output_type": "stream",
          "text": "Splitting 1 candies\n",
          "name": "stdout"
        },
        {
          "output_type": "execute_result",
          "execution_count": 7,
          "data": {
            "text/plain": "1"
          },
          "metadata": {}
        }
      ]
    },
    {
      "metadata": {
        "_uuid": "c134bcac33ae8d565289320d05904cd25f0f306d"
      },
      "cell_type": "markdown",
      "source": "How embarrassing!\n\nModify the definition in the cell below to correct the grammar of our print statement. (If there's only one candy, we should use the singular \"candy\" instead of the plural \"candies\")\n\n**Bonus**: <span title=\"A bit spicy\" style=\"color: darkgreen \">🌶️</span> Can you fix the function without increasing the number of lines of code?"
    },
    {
      "metadata": {
        "_uuid": "309054215e54a659f8a2d3ea8463ffbafcc3a64d",
        "trusted": true
      },
      "cell_type": "code",
      "source": "def to_smash(total_candies):\n    \"\"\"Return the number of leftover candies that must be smashed after distributing\n    the given number of candies evenly between 3 friends.\n    \n    >>> to_smash(91)\n    1\n    \"\"\"\n    if total_candies > 3:\n        print(\"Splitting\", total_candies, \"candies\")\n        return total_candies % 3\n    else:\n        print(\"Splitting\", total_candies, \"candy\")\nto_smash(91)\nto_smash(1)",
      "execution_count": 8,
      "outputs": [
        {
          "output_type": "stream",
          "text": "Splitting 91 candies\nSplitting 1 candy\n",
          "name": "stdout"
        }
      ]
    },
    {
      "metadata": {
        "collapsed": true,
        "_uuid": "182cce7cf19abca738463ed521a1d07f178203f0",
        "trusted": true
      },
      "cell_type": "code",
      "source": "#q2.hint()",
      "execution_count": 9,
      "outputs": []
    },
    {
      "metadata": {
        "_uuid": "36370184152d2f8107affa0b730a9cf4cf026663",
        "trusted": true
      },
      "cell_type": "code",
      "source": "q2.solution()",
      "execution_count": 10,
      "outputs": [
        {
          "output_type": "display_data",
          "data": {
            "text/plain": "Solution: A straightforward (and totally fine) solution is to replace the original `print` call with:\n\n```python\nif total_candies == 1:\n    print(\"Splitting 1 candy\")\nelse:\n    print(\"Splitting\", total_candies, \"candies\")\n```\n\nHere's a slightly more succinct solution using a conditional expression:\n\n```python\nprint(\"Splitting\", total_candies, \"candy\" if total_candies == 1 else \"candies\")\n```",
            "text/markdown": "<span style=\"color:#33cc99\">Solution:</span> A straightforward (and totally fine) solution is to replace the original `print` call with:\n\n```python\nif total_candies == 1:\n    print(\"Splitting 1 candy\")\nelse:\n    print(\"Splitting\", total_candies, \"candies\")\n```\n\nHere's a slightly more succinct solution using a conditional expression:\n\n```python\nprint(\"Splitting\", total_candies, \"candy\" if total_candies == 1 else \"candies\")\n```"
          },
          "metadata": {}
        }
      ]
    },
    {
      "metadata": {
        "_uuid": "e2f5654a6c38c35b70f32a6b71b36ff2ff752ef0"
      },
      "cell_type": "markdown",
      "source": "## 3. <span title=\"A bit spicy\" style=\"color: darkgreen \">🌶️</span>\n\nIn the main lesson we talked about deciding whether we're prepared for the weather. I said that I'm safe from today's weather if...\n- I have an umbrella...\n- or if the rain isn't too heavy and I have a hood...\n- otherwise, I'm still fine unless it's raining *and* it's a workday\n\nThe function below uses our first attempt at turning this logic into a Python expression. I claimed that there was a bug in that code. Can you find it?\n\nTo prove that `prepared_for_weather` is buggy, come up with a set of inputs where it returns the wrong answer."
    },
    {
      "metadata": {
        "_uuid": "614e85d43497d15e1556a1c2add766effb0b123e",
        "trusted": true
      },
      "cell_type": "code",
      "source": "def prepared_for_weather(have_umbrella, rain_level, have_hood, is_workday):\n    # Don't change this code. Our goal is just to find the bug, not fix it!\n    return have_umbrella or rain_level < 5 and have_hood or not rain_level > 0 and is_workday\n\n# Change the values of these inputs so they represent a case where prepared_for_weather\n# returns the wrong answer.\nhave_umbrella = False\nrain_level = 0.0\nhave_hood = False\nis_workday = False\n\n# Check what the function returns given the current values of the variables above\nactual = prepared_for_weather(have_umbrella, rain_level, have_hood, is_workday)\nprint(actual)\n\nq3.check()",
      "execution_count": 11,
      "outputs": [
        {
          "output_type": "stream",
          "text": "False\n",
          "name": "stdout"
        },
        {
          "output_type": "display_data",
          "data": {
            "text/plain": "Correct: \n\nOne example of a failing test case is:\n\n```python\nhave_umbrella = False\nrain_level = 0.0\nhave_hood = False\nis_workday = False\n```\n\nClearly we're prepared for the weather in this case. It's not raining. Not only that, it's not a workday, so we don't even need to leave the house! But our function will return False on these inputs.\n\nThe key problem is that Python implictly parenthesizes the last part as:\n\n```python\n(not (rain_level > 0)) and is_workday\n```\n\nWhereas what we were trying to express would look more like:\n\n```python\nnot (rain_level > 0 and is_workday)\n```",
            "text/markdown": "<span style=\"color:#33cc33\">Correct:</span> \n\nOne example of a failing test case is:\n\n```python\nhave_umbrella = False\nrain_level = 0.0\nhave_hood = False\nis_workday = False\n```\n\nClearly we're prepared for the weather in this case. It's not raining. Not only that, it's not a workday, so we don't even need to leave the house! But our function will return False on these inputs.\n\nThe key problem is that Python implictly parenthesizes the last part as:\n\n```python\n(not (rain_level > 0)) and is_workday\n```\n\nWhereas what we were trying to express would look more like:\n\n```python\nnot (rain_level > 0 and is_workday)\n```\n"
          },
          "metadata": {}
        }
      ]
    },
    {
      "metadata": {
        "_uuid": "3521a8e08b2c96f9ab6a5dd386444692356136f9",
        "trusted": true
      },
      "cell_type": "code",
      "source": "#q3.hint()\nq3.solution()",
      "execution_count": 12,
      "outputs": [
        {
          "output_type": "display_data",
          "data": {
            "text/plain": "Solution: One example of a failing test case is:\n\n```python\nhave_umbrella = False\nrain_level = 0.0\nhave_hood = False\nis_workday = False\n```\n\nClearly we're prepared for the weather in this case. It's not raining. Not only that, it's not a workday, so we don't even need to leave the house! But our function will return False on these inputs.\n\nThe key problem is that Python implictly parenthesizes the last part as:\n\n```python\n(not (rain_level > 0)) and is_workday\n```\n\nWhereas what we were trying to express would look more like:\n\n```python\nnot (rain_level > 0 and is_workday)\n```",
            "text/markdown": "<span style=\"color:#33cc99\">Solution:</span> One example of a failing test case is:\n\n```python\nhave_umbrella = False\nrain_level = 0.0\nhave_hood = False\nis_workday = False\n```\n\nClearly we're prepared for the weather in this case. It's not raining. Not only that, it's not a workday, so we don't even need to leave the house! But our function will return False on these inputs.\n\nThe key problem is that Python implictly parenthesizes the last part as:\n\n```python\n(not (rain_level > 0)) and is_workday\n```\n\nWhereas what we were trying to express would look more like:\n\n```python\nnot (rain_level > 0 and is_workday)\n```\n"
          },
          "metadata": {}
        }
      ]
    },
    {
      "metadata": {
        "_uuid": "c521a436da13ab58b9cc829dc613d5a5cb815b40"
      },
      "cell_type": "markdown",
      "source": "## 4.\n\nThe function `is_negative` below is implemented correctly - it returns True if the given number is negative and False otherwise.\n\nHowever, it's more verbose than it needs to be. We can actually reduce the number of lines of code in this function by *75%* while keeping the same behaviour. \n\nSee if you can come up with an equivalent body that uses just **one line** of code, and put it in the function `concise_is_negative`. (HINT: you don't even need Python's ternary syntax)"
    },
    {
      "metadata": {
        "_uuid": "95a7b67bf31e53486042cd9bfd334ede7e906fad",
        "trusted": true
      },
      "cell_type": "code",
      "source": "def is_negative(number):\n    if number < 0:\n        return True\n    else:\n        return False\n\ndef concise_is_negative(number):\n    return number <0\nq4.check()",
      "execution_count": 13,
      "outputs": [
        {
          "output_type": "display_data",
          "data": {
            "text/plain": "Correct",
            "text/markdown": "<span style=\"color:#33cc33\">Correct</span>"
          },
          "metadata": {}
        }
      ]
    },
    {
      "metadata": {
        "_uuid": "68681d133bf0f217f4ab75a4c68eb1161abf7047",
        "trusted": true
      },
      "cell_type": "code",
      "source": "q4.hint()\nq4.solution()",
      "execution_count": 14,
      "outputs": [
        {
          "output_type": "display_data",
          "data": {
            "text/plain": "Hint: If the value of the expression `number < 0` is `True`, then we return `True`. If it's `False`, then we return `False`...",
            "text/markdown": "<span style=\"color:#3366cc\">Hint:</span> If the value of the expression `number < 0` is `True`, then we return `True`. If it's `False`, then we return `False`..."
          },
          "metadata": {}
        },
        {
          "output_type": "display_data",
          "data": {
            "text/plain": "Solution: \n```python\nreturn number < 0\n```",
            "text/markdown": "<span style=\"color:#33cc99\">Solution:</span> \n```python\nreturn number < 0\n```"
          },
          "metadata": {}
        }
      ]
    },
    {
      "metadata": {
        "_uuid": "9fdad28c776082317a1d84939cb23ea6ba53f0f9"
      },
      "cell_type": "markdown",
      "source": "## 5.\n\nThe boolean variables `ketchup`, `mustard` and `onion` represent whether a customer wants a particular topping on their hot dog. We want to implement a number of boolean functions that correspond to some yes-or-no questions about the customer's order. For example:"
    },
    {
      "metadata": {
        "collapsed": true,
        "_uuid": "34d9b555bec2609e28d1ef4a601389ca959610d8",
        "trusted": true
      },
      "cell_type": "code",
      "source": "def onionless(ketchup, mustard, onion):\n    \"\"\"Return whether the customer doesn't want onions.\n    \"\"\"\n    \n    return not onion",
      "execution_count": 15,
      "outputs": []
    },
    {
      "metadata": {
        "_uuid": "d568a6590daf71bfe0c13405e88406ed7ebf7ec2"
      },
      "cell_type": "markdown",
      "source": "For each of the remaining functions, fill in the body to match the English description in the docstring. "
    },
    {
      "metadata": {
        "_uuid": "d909dbefc12b94c6f8642daa0aaab41c5b10dd46",
        "trusted": true
      },
      "cell_type": "code",
      "source": "def wants_all_toppings(ketchup, mustard, onion):\n    \"\"\"Return whether the customer wants \"the works\" (all 3 toppings)\n    \"\"\"\n    return ketchup and mustard and onion\nq5.a.check()",
      "execution_count": 16,
      "outputs": [
        {
          "output_type": "display_data",
          "data": {
            "text/plain": "Correct",
            "text/markdown": "<span style=\"color:#33cc33\">Correct</span>"
          },
          "metadata": {}
        }
      ]
    },
    {
      "metadata": {
        "_uuid": "fad5589d81bffbe8e77f0d86867284669d1cc765",
        "trusted": true
      },
      "cell_type": "code",
      "source": "#q5.a.hint()\nq5.a.solution()",
      "execution_count": 17,
      "outputs": [
        {
          "output_type": "display_data",
          "data": {
            "text/plain": "Solution: \n```python\nreturn ketchup and mustard and onion\n```",
            "text/markdown": "<span style=\"color:#33cc99\">Solution:</span> \n```python\nreturn ketchup and mustard and onion\n```"
          },
          "metadata": {}
        }
      ]
    },
    {
      "metadata": {
        "_uuid": "dad3a62fe57c96bc846ba7d36da4fb29fce6aea0",
        "trusted": true
      },
      "cell_type": "code",
      "source": "def wants_plain_hotdog(ketchup, mustard, onion):\n    \"\"\"Return whether the customer wants a plain hot dog with no toppings.\n    \"\"\"\n    return not onion and not ketchup and not mustard\n    pass\n\nq5.b.check()",
      "execution_count": 18,
      "outputs": [
        {
          "output_type": "display_data",
          "data": {
            "text/plain": "Correct: \n\nOne solution looks like:\n```python\nreturn not ketchup and not mustard and not onion\n```\n\nWe can also [\"factor out\" the nots](https://en.wikipedia.org/wiki/De_Morgan%27s_laws) to get:\n\n```python\nreturn not (ketchup or mustard or onion)\n```",
            "text/markdown": "<span style=\"color:#33cc33\">Correct:</span> \n\nOne solution looks like:\n```python\nreturn not ketchup and not mustard and not onion\n```\n\nWe can also [\"factor out\" the nots](https://en.wikipedia.org/wiki/De_Morgan%27s_laws) to get:\n\n```python\nreturn not (ketchup or mustard or onion)\n```"
          },
          "metadata": {}
        }
      ]
    },
    {
      "metadata": {
        "collapsed": true,
        "_uuid": "b54e13e37ccbc0c28716a2e3324161d072cb4dd8",
        "trusted": true
      },
      "cell_type": "code",
      "source": "#q5.b.hint()\n#q5.b.solution()",
      "execution_count": 19,
      "outputs": []
    },
    {
      "metadata": {
        "_uuid": "ed76bdce7ba59adc6eec38837e34d30d63a58a2c",
        "trusted": true
      },
      "cell_type": "code",
      "source": "def exactly_one_sauce(ketchup, mustard, onion):\n    \"\"\"Return whether the customer wants either ketchup or mustard, but not both.\n    (You may be familiar with this operation under the name \"exclusive or\")\n    \"\"\"\n    return (ketchup and not mustard) or (mustard and not ketchup)\n\nq5.c.check()",
      "execution_count": 20,
      "outputs": [
        {
          "output_type": "display_data",
          "data": {
            "text/plain": "Correct",
            "text/markdown": "<span style=\"color:#33cc33\">Correct</span>"
          },
          "metadata": {}
        }
      ]
    },
    {
      "metadata": {
        "_uuid": "c8e33cb6b3fe04765dcc18bde1791c9524e1819f",
        "trusted": true
      },
      "cell_type": "code",
      "source": "#q5.c.hint()\nq5.c.solution()",
      "execution_count": 21,
      "outputs": [
        {
          "output_type": "display_data",
          "data": {
            "text/plain": "Solution: \n```python\nreturn (ketchup and not mustard) or (mustard and not ketchup)\n```",
            "text/markdown": "<span style=\"color:#33cc99\">Solution:</span> \n```python\nreturn (ketchup and not mustard) or (mustard and not ketchup)\n```"
          },
          "metadata": {}
        }
      ]
    },
    {
      "metadata": {
        "_uuid": "6bb23c69c3cf0e982074cdd58509fc722e1f13d5"
      },
      "cell_type": "markdown",
      "source": "## 6. <span title=\"A bit spicy\" style=\"color: darkgreen \">🌶️</span>\n\nWe’ve seen that calling `bool()` on an integer returns `False` if it’s equal to 0 and `True` otherwise. What happens if we call `int()` on a bool? Try it out in the console or a new code cell.\n\nCan you take advantage of this to write a succinct function that corresponds to the English sentence \"does the customer want exactly one topping?\"?"
    },
    {
      "metadata": {
        "_uuid": "aac9bb0bf4b3a84577baa452cdf05d4d2f6b8084",
        "trusted": true
      },
      "cell_type": "code",
      "source": "def exactly_one_topping(ketchup, mustard, onion):\n    \"\"\"Return whether the customer wants exactly one of the three available toppings\n    on their hot dog.\n    \"\"\"\n    pass\n\nq6.check()",
      "execution_count": 22,
      "outputs": [
        {
          "output_type": "display_data",
          "data": {
            "text/plain": "Check: When you've updated the starter code, `check()` will tell you whether your code is correct. ",
            "text/markdown": "<span style=\"color:#ccaa33\">Check:</span> When you've updated the starter code, `check()` will tell you whether your code is correct. "
          },
          "metadata": {}
        }
      ]
    },
    {
      "metadata": {
        "_uuid": "11442a34de4f6c5fbca2eb44351cbe749d531777",
        "trusted": true
      },
      "cell_type": "code",
      "source": "#q6.hint()\nq6.solution()",
      "execution_count": 23,
      "outputs": [
        {
          "output_type": "display_data",
          "data": {
            "text/plain": "Solution: This condition would be pretty complicated to express using just `and`, `or` and `not`, but using boolean-to-integer conversion gives us this short solution:\n```python\nreturn (int(ketchup) + int(mustard) + int(onion)) == 1\n```\n\nFun fact: we don't technically need to call `int` on the arguments. Just by doing addition with booleans, Python implicitly does the integer conversion. So we could also write...\n\n```python\nreturn (ketchup + mustard + onion) == 1\n```",
            "text/markdown": "<span style=\"color:#33cc99\">Solution:</span> This condition would be pretty complicated to express using just `and`, `or` and `not`, but using boolean-to-integer conversion gives us this short solution:\n```python\nreturn (int(ketchup) + int(mustard) + int(onion)) == 1\n```\n\nFun fact: we don't technically need to call `int` on the arguments. Just by doing addition with booleans, Python implicitly does the integer conversion. So we could also write...\n\n```python\nreturn (ketchup + mustard + onion) == 1\n```"
          },
          "metadata": {}
        }
      ]
    },
    {
      "metadata": {
        "_uuid": "1877cab86d6183233c94d8b0f0c7d73bba11dbd1"
      },
      "cell_type": "markdown",
      "source": "## 7. <span title=\"A bit spicy\" style=\"color: darkgreen \">🌶️</span>\n\nIn this problem we'll be working with a simplified version of [blackjack](https://en.wikipedia.org/wiki/Blackjack) (aka twenty-one). In this version there is one player (who you'll control) and a dealer. Play proceeds as follows:\n\n- The player is dealt two face-up cards. The dealer is dealt one face-up card.\n- The player may ask to be dealt another card ('hit') as many times as they wish. If the sum of their cards exceeds 21, they lose the round immediately.\n- The dealer then deals additional cards to himself until either:\n    - the sum of the dealer's cards exceeds 21, in which case the player wins the round\n    - the sum of the dealer's cards is greater than or equal to 17. If the player's total is greater than the dealer's, the player wins. Otherwise, the dealer wins (even in case of a tie).\n    \nWhen calculating the sum of cards, Jack, Queen, and King count for 10. Aces can count as 1 or 11 (when referring to a player's \"total\" above, we mean the largest total that can be made without exceeding 21. So e.g. A+8 = 19, A+8+8 = 17)\n\nFor this problem, you'll write a function representing the player's decision-making strategy in this game. We've provided a very unintelligent implementation below:"
    },
    {
      "metadata": {
        "collapsed": true,
        "_uuid": "5a5506be7796b1900cef90c5869fd38164a71004",
        "trusted": false
      },
      "cell_type": "code",
      "source": "def should_hit(player_total, dealer_total, player_aces):\n    \"\"\"Return True if the player should hit (request another card) given the current game\n    state, or False if the player should stay. player_aces is the number of aces the player has.\n    \"\"\"\n    \n    \n    return False",
      "execution_count": null,
      "outputs": []
    },
    {
      "metadata": {
        "collapsed": true,
        "_uuid": "9a0297c9e1e1b284a38cd203c79fddaf23a657bd"
      },
      "cell_type": "markdown",
      "source": "This very conservative agent *always* sticks with the hand of two cards that they're dealt.\n\nWe'll be simulating games between your player agent and our own dealer agent by calling your function.\n\nTry running the function below to see an example of a simulated game:"
    },
    {
      "metadata": {
        "_uuid": "bf58ccddc30a53387ffc686d1d082bd5c83dbfb0",
        "trusted": true,
        "collapsed": true
      },
      "cell_type": "code",
      "source": "q7.simulate_one_game()",
      "execution_count": null,
      "outputs": []
    },
    {
      "metadata": {
        "_uuid": "aefcb9f834ffc4015590015f4fc81f956a2107c7"
      },
      "cell_type": "markdown",
      "source": "The real test of your agent's mettle is their average win rate over many games. Try calling the function below to simulate 1000 games of blackjack:"
    },
    {
      "metadata": {
        "_uuid": "5fcdc0c2005c6d65066cf3de56812a61b7be107a",
        "trusted": true,
        "collapsed": true
      },
      "cell_type": "code",
      "source": "q7.simulate(n_games=1000)",
      "execution_count": null,
      "outputs": []
    },
    {
      "metadata": {
        "_uuid": "c17b3682c1d21e4597daf59a4709d9c699a832ac"
      },
      "cell_type": "markdown",
      "source": "Our dumb agent that completely ignores the game state still manages to win shockingly often!\n\nTry adding some more smarts to the `should_hit` function and see how it affects the results."
    },
    {
      "metadata": {
        "_uuid": "145bb4ad0847b83888b3f2ac1b3f18f52fefc8ce",
        "trusted": true,
        "collapsed": true
      },
      "cell_type": "code",
      "source": "def should_hit(player_total, dealer_total, player_aces):\n    \"\"\"Return True if the player should hit (request another card) given the current game\n    state, or False if the player should stay. player_aces is the number of aces the player has.\n    \"\"\"\n    return False\n\nq7.simulate(n_games=1000)",
      "execution_count": null,
      "outputs": []
    },
    {
      "metadata": {
        "_uuid": "91d0b21f66cbb849cfdf6c518591b861164237e3"
      },
      "cell_type": "markdown",
      "source": "How high can you get your win rate? Share your results on the [forums](https://www.kaggle.com/learn-forum).\n\nRemember that your notebook is private by default, and in order to share it with other people or ask for help with it, you'll need to make it public. First, you'll need to save a version of your notebook that shows your current work by hitting the \"Commit & Run\" button. (Your work is saved automatically, but versioning your work lets you go back and look at what it was like at the point you saved it. It also let's you share a nice compiled notebook instead of just the raw code.) Then, once your notebook is finished running, you can go to the Settings tab in the panel to the left (you may have to expand it by hitting the [<] button next to the \"Commit & Run\" button) and setting the \"Visibility\" dropdown to \"Public\".\n\nWhen you're ready to continue, [click here](https://www.kaggle.com/colinmorris/lists) to continue on to the next tutorial on lists and tuples."
    }
  ],
  "metadata": {
    "kernelspec": {
      "display_name": "Python 3",
      "language": "python",
      "name": "python3"
    },
    "language_info": {
      "name": "python",
      "version": "3.6.6",
      "mimetype": "text/x-python",
      "codemirror_mode": {
        "name": "ipython",
        "version": 3
      },
      "pygments_lexer": "ipython3",
      "nbconvert_exporter": "python",
      "file_extension": ".py"
    },
    "learntools_metadata": {
      "lesson_index": 2,
      "type": "exercise"
    }
  },
  "nbformat": 4,
  "nbformat_minor": 1
}