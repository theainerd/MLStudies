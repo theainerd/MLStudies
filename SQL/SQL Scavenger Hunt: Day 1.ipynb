{
  "cells": [
    {
      "metadata": {
        "_cell_guid": "aac1eb7a-6eb0-4239-bf0c-7edf5dd242a1",
        "_uuid": "56f92656487e77f60088d9afe9969a878ac1ead5"
      },
      "cell_type": "markdown",
      "source": "<table>\n    <tr>\n        <td>\n        <center>\n        <font size=\"+1\">If you haven't used BigQuery datasets on Kaggle previously, check out the <a href = \"https://www.kaggle.com/rtatman/sql-scavenger-hunt-handbook/\">Scavenger Hunt Handbook</a> kernel to get started.</font>\n        </center>\n        </td>\n    </tr>\n</table>"
    },
    {
      "metadata": {
        "_cell_guid": "2fc58cbb-15ec-42e5-8f81-ca4cba5db07c",
        "_uuid": "8710f8a626efbd27c8e53b723e97813fdd388822"
      },
      "cell_type": "markdown",
      "source": "# SELECT, FROM & WHERE\n\nToday, we're going to learn how to use SELECT, FROM and WHERE to get data from a specific column based on the value of another column. For the purposes of this explanation, we'll be using this imaginary database, `pet_records` which has just one table in it, called `pets`, which looks like this:\n\n![](https://i.imgur.com/Ef4Puo3.png)\n\n### SELECT ... FROM\n___\n\nThe most basic SQL query is to select a single column from a specific table. To do this, you need to tell SELECT which column to select and then specify what table that column is from using from. \n\n> **Do you need to capitalize SELECT and FROM?** No, SQL doesn't care about capitalization. However, it's customary to capitalize your SQL commands and it makes your queries a bit easier to read.\n\nSo, if we wanted to select the \"Name\" column from the pets table of the pet_records database (if that database were accessible as a BigQuery dataset on Kaggle , which it is not, because I made it up), we would do this:\n\n    SELECT Name\n    FROM `bigquery-public-data.pet_records.pets`\n\nWhich would return the highlighted data from this figure.\n\n![](https://i.imgur.com/8FdVyFP.png)\n\n### WHERE ...\n___\n\nWhen you're working with BigQuery datasets, you're almost always going to want to return only certain rows, usually based on the value of a different column. You can do this using the WHERE clause, which will only return the rows where the WHERE clause evaluates to true.\n\nLet's look at an example:\n\n    SELECT Name\n    FROM `bigquery-public-data.pet_records.pets`\n    WHERE Animal = \"Cat\"\n\nThis query will only return the entries from the \"Name\" column that are in rows where the \"Animal\" column has the text \"Cat\" in it. Those are the cells highlighted in blue in this figure:\n\n![](https://i.imgur.com/Va52Qdl.png)\n"
    },
    {
      "metadata": {
        "_cell_guid": "2e2563a2-5b9d-42a4-8fa3-da4d4150b24d",
        "_uuid": "0482e52934a735a43d562fe7beeabb85fe70e338"
      },
      "cell_type": "markdown",
      "source": "## Example: What are all the U.S. cities in the OpenAQ dataset?\n___\n\nNow that you've got the basics down, let's work through an example with a real dataset. Today we're going to be working with the OpenAQ dataset, which has information on air quality around the world. (The data in it should be current: it's updated weekly.)\n\nTo help get you situated, I'm going to run through a complete query first. Then it will be your turn to get started running your queries!\n\nFirst, I'm going to set up everything we need to run queries and take a quick peek at what tables are in our database."
    },
    {
      "metadata": {
        "_cell_guid": "9a26e7db-812d-4fbb-b457-e09d323af127",
        "_uuid": "ab40ebc98c64c78df9a11d922bbc23573a43aefe",
        "trusted": true
      },
      "cell_type": "code",
      "source": "# import package with helper functions \nimport bq_helper\n\n# create a helper object for this dataset\nopen_aq = bq_helper.BigQueryHelper(active_project=\"bigquery-public-data\",\n                                   dataset_name=\"openaq\")\n\n# print all the tables in this dataset (there's only one!)\nopen_aq.list_tables()",
      "execution_count": 21,
      "outputs": [
        {
          "output_type": "execute_result",
          "execution_count": 21,
          "data": {
            "text/plain": "['global_air_quality']"
          },
          "metadata": {}
        }
      ]
    },
    {
      "metadata": {
        "_cell_guid": "cf3f3bd4-ef30-45d1-bdb3-5c8e7d3ec194",
        "_uuid": "0f5207bb8a05b44d1af2e002fde6260fb01baa1d"
      },
      "cell_type": "markdown",
      "source": "I'm going to take a peek at the first couple of rows to help me see what sort of data is in this dataset."
    },
    {
      "metadata": {
        "_cell_guid": "d85ed84b-58b3-48c1-8ea6-4c89ad254bd8",
        "_uuid": "dad17f046aac83f2c219452e032fd72227ea3e7a",
        "trusted": true
      },
      "cell_type": "code",
      "source": "# print the first couple rows of the \"global_air_quality\" dataset\nopen_aq.head(\"global_air_quality\")",
      "execution_count": 22,
      "outputs": [
        {
          "output_type": "execute_result",
          "execution_count": 22,
          "data": {
            "text/plain": "  location     city country pollutant   value                 timestamp  \\\n0      IIT  Chennai      IN       so2    7.90 2018-02-22 03:45:00+00:00   \n1      IIT  Chennai      IN        o3   19.79 2018-02-22 03:45:00+00:00   \n2      IIT  Chennai      IN       no2    6.13 2018-02-22 03:45:00+00:00   \n3      IIT  Chennai      IN        co  850.00 2018-02-22 03:45:00+00:00   \n4      IIT  Chennai      IN      pm25   70.00 2018-02-22 03:45:00+00:00   \n\n    unit source_name   latitude  longitude  averaged_over_in_hours  \n0  µg/m³        CPCB  12.992514   80.23745                    0.25  \n1  µg/m³        CPCB  12.992514   80.23745                    0.25  \n2  µg/m³        CPCB  12.992514   80.23745                    0.25  \n3  µg/m³        CPCB  12.992514   80.23745                    0.25  \n4  µg/m³        CPCB  12.992514   80.23745                    0.25  ",
            "text/html": "<div>\n<style>\n    .dataframe thead tr:only-child th {\n        text-align: right;\n    }\n\n    .dataframe thead th {\n        text-align: left;\n    }\n\n    .dataframe tbody tr th {\n        vertical-align: top;\n    }\n</style>\n<table border=\"1\" class=\"dataframe\">\n  <thead>\n    <tr style=\"text-align: right;\">\n      <th></th>\n      <th>location</th>\n      <th>city</th>\n      <th>country</th>\n      <th>pollutant</th>\n      <th>value</th>\n      <th>timestamp</th>\n      <th>unit</th>\n      <th>source_name</th>\n      <th>latitude</th>\n      <th>longitude</th>\n      <th>averaged_over_in_hours</th>\n    </tr>\n  </thead>\n  <tbody>\n    <tr>\n      <th>0</th>\n      <td>IIT</td>\n      <td>Chennai</td>\n      <td>IN</td>\n      <td>so2</td>\n      <td>7.90</td>\n      <td>2018-02-22 03:45:00+00:00</td>\n      <td>µg/m³</td>\n      <td>CPCB</td>\n      <td>12.992514</td>\n      <td>80.23745</td>\n      <td>0.25</td>\n    </tr>\n    <tr>\n      <th>1</th>\n      <td>IIT</td>\n      <td>Chennai</td>\n      <td>IN</td>\n      <td>o3</td>\n      <td>19.79</td>\n      <td>2018-02-22 03:45:00+00:00</td>\n      <td>µg/m³</td>\n      <td>CPCB</td>\n      <td>12.992514</td>\n      <td>80.23745</td>\n      <td>0.25</td>\n    </tr>\n    <tr>\n      <th>2</th>\n      <td>IIT</td>\n      <td>Chennai</td>\n      <td>IN</td>\n      <td>no2</td>\n      <td>6.13</td>\n      <td>2018-02-22 03:45:00+00:00</td>\n      <td>µg/m³</td>\n      <td>CPCB</td>\n      <td>12.992514</td>\n      <td>80.23745</td>\n      <td>0.25</td>\n    </tr>\n    <tr>\n      <th>3</th>\n      <td>IIT</td>\n      <td>Chennai</td>\n      <td>IN</td>\n      <td>co</td>\n      <td>850.00</td>\n      <td>2018-02-22 03:45:00+00:00</td>\n      <td>µg/m³</td>\n      <td>CPCB</td>\n      <td>12.992514</td>\n      <td>80.23745</td>\n      <td>0.25</td>\n    </tr>\n    <tr>\n      <th>4</th>\n      <td>IIT</td>\n      <td>Chennai</td>\n      <td>IN</td>\n      <td>pm25</td>\n      <td>70.00</td>\n      <td>2018-02-22 03:45:00+00:00</td>\n      <td>µg/m³</td>\n      <td>CPCB</td>\n      <td>12.992514</td>\n      <td>80.23745</td>\n      <td>0.25</td>\n    </tr>\n  </tbody>\n</table>\n</div>"
          },
          "metadata": {}
        }
      ]
    },
    {
      "metadata": {
        "trusted": true,
        "collapsed": true,
        "_uuid": "18a5ba4477ce927dd6ff2c4661b338ebc937aa0a"
      },
      "cell_type": "code",
      "source": "",
      "execution_count": null,
      "outputs": []
    },
    {
      "metadata": {
        "_cell_guid": "c4cf499d-a495-4717-a390-523107b3e1b2",
        "_uuid": "e70b02fc205ca45859a8520c211e11e3f46a3811"
      },
      "cell_type": "markdown",
      "source": "Great, everything looks good! Now that I'm set up, I'm going to put together a query. I want to select all the values from the \"city\" column for the rows there the \"country\" column is \"us\" (for \"United States\"). \n\n> **What's up with the triple quotation marks (\"\"\")?** These tell Python that everything inside them is a single string, even though we have line breaks in it. The line breaks aren't necessary, but they do make it much easier to read your query."
    },
    {
      "metadata": {
        "_cell_guid": "787efd2f-8f1e-4804-982c-4cd86888c56f",
        "_uuid": "42f5bfb36cba82ccf9250a9c71077ce4154b4a32",
        "collapsed": true,
        "trusted": true
      },
      "cell_type": "code",
      "source": "# query to select all the items from the \"city\" column where the\n# \"country\" column is \"us\"\nquery = \"\"\"SELECT city\n            FROM `bigquery-public-data.openaq.global_air_quality`\n            WHERE country = 'US'\n        \"\"\"",
      "execution_count": 23,
      "outputs": []
    },
    {
      "metadata": {
        "_cell_guid": "baf936ce-7334-4038-9c6a-d2a8d2d4d8e4",
        "_uuid": "b16b54b3e2d1b478f9179d6e73f0660c6aa973d4"
      },
      "cell_type": "markdown",
      "source": "> **Important:**  Note that the argument we pass to FROM is *not* in single or double quotation marks (' or \"). It is in backticks (\\`). If you use quotation marks instead of backticks, you'll get this error when you try to run the query: `Syntax error: Unexpected string literal` \n\nNow I can use this query to get information from our open_aq dataset. I'm using the `BigQueryHelper.query_to_pandas_safe()` method here because it won't run a query if it's larger than 1 gigabyte, which helps me avoid accidentally running a very large query. See the [Scavenger Hunt Handbook ](https://www.kaggle.com/rtatman/sql-scavenger-hunt-handbook/)for more details. "
    },
    {
      "metadata": {
        "_cell_guid": "b37cf4b8-1d54-456b-9e52-8e139b166a6e",
        "_uuid": "ecde0a65fad06ef5d22d896484d8cbe05f874e12",
        "collapsed": true,
        "trusted": true
      },
      "cell_type": "code",
      "source": "# the query_to_pandas_safe will only return a result if it's less\n# than one gigabyte (by default)\nus_cities = open_aq.query_to_pandas_safe(query)",
      "execution_count": 24,
      "outputs": []
    },
    {
      "metadata": {
        "_cell_guid": "9f642ae3-1b06-479a-9e31-a0f21423ecaf",
        "_uuid": "5f3ff35c822b8809cf07180d15ad651bcad4eb46"
      },
      "cell_type": "markdown",
      "source": "Now I've got a dataframe called us_cities, which I can use like I would any other dataframe:"
    },
    {
      "metadata": {
        "_cell_guid": "3bc9736e-9b18-44c2-9444-e0946cad8b79",
        "_uuid": "2d6b6cca96280cd1a4c4568c723fd35edff7fffa",
        "trusted": true
      },
      "cell_type": "code",
      "source": "# What five cities have the most measurements taken there?\nus_cities.city.value_counts().head()",
      "execution_count": 25,
      "outputs": [
        {
          "output_type": "execute_result",
          "execution_count": 25,
          "data": {
            "text/plain": "Phoenix-Mesa-Scottsdale                     85\nHouston                                     77\nLos Angeles-Long Beach-Santa Ana            60\nNew York-Northern New Jersey-Long Island    59\nRiverside-San Bernardino-Ontario            56\nName: city, dtype: int64"
          },
          "metadata": {}
        }
      ]
    },
    {
      "metadata": {
        "_cell_guid": "fda0a223-5fd5-4524-a402-ecaef2905fa0",
        "_kg_hide-output": true,
        "_uuid": "654d2baeecb8757e10d02a63ec6cc63fe2df2339"
      },
      "cell_type": "markdown",
      "source": "# Scavenger hunt\n___\n\nNow it's your turn! Here's the questions I would like you to get the data to answer:\n\n* Which countries use a unit other than ppm to measure any type of pollution? (Hint: to get rows where the value *isn't* something, use \"!=\")\n* Which pollutants have a value of exactly 0?\n\nIn order to answer these questions, you can fork this notebook by hitting the blue \"Fork Notebook\" at the very top of this page (you may have to scroll up).  \"Forking\" something is making a copy of it that you can edit on your own without changing the original."
    },
    {
      "metadata": {
        "_cell_guid": "a4f6aab8-ae9b-4123-87e9-94aadf6a757c",
        "_uuid": "c346ce030dd69d682f91756fc9185ae7845066fb",
        "collapsed": true,
        "trusted": true
      },
      "cell_type": "code",
      "source": "query2 = \"\"\"SELECT country\n            FROM `bigquery-public-data.openaq.global_air_quality`\n            WHERE pollutant != 'ppm'\n        \"\"\"\n",
      "execution_count": 26,
      "outputs": []
    },
    {
      "metadata": {
        "trusted": true,
        "collapsed": true,
        "_uuid": "06003483d990c4eb993382b2358d67d22d2e5fc4"
      },
      "cell_type": "code",
      "source": "pol_ppm = open_aq.query_to_pandas_safe(query2)",
      "execution_count": 27,
      "outputs": []
    },
    {
      "metadata": {
        "trusted": true,
        "_uuid": "5519c014fd5dd1128cb41f957eb792fff71cd662"
      },
      "cell_type": "code",
      "source": "pol_ppm['country'].value_counts().head()",
      "execution_count": 28,
      "outputs": [
        {
          "output_type": "execute_result",
          "execution_count": 28,
          "data": {
            "text/plain": "US    3364\nES    1889\nFR    1572\nDE    1388\nIN     816\nName: country, dtype: int64"
          },
          "metadata": {}
        }
      ]
    },
    {
      "metadata": {
        "trusted": true,
        "collapsed": true,
        "_uuid": "13aca7e8bff0c8e50d04d174636cd02aa500c79a"
      },
      "cell_type": "code",
      "source": "query3 = \"\"\"SELECT pollutant\n            FROM `bigquery-public-data.openaq.global_air_quality`\n            WHERE value = 0\n        \"\"\"",
      "execution_count": 29,
      "outputs": []
    },
    {
      "metadata": {
        "trusted": true,
        "collapsed": true,
        "_uuid": "42e910c54204fa669822ce2d9a9c668c50ee093d"
      },
      "cell_type": "code",
      "source": "zero_pollutant = open_aq.query_to_pandas_safe(query3)",
      "execution_count": 30,
      "outputs": []
    },
    {
      "metadata": {
        "trusted": true,
        "_uuid": "650b4d9ee8cc417c217c70b38de34c27a11fd1ff"
      },
      "cell_type": "code",
      "source": "zero_pollutant.head(2)",
      "execution_count": 31,
      "outputs": [
        {
          "output_type": "execute_result",
          "execution_count": 31,
          "data": {
            "text/plain": "  pollutant\n0        bc\n1        co",
            "text/html": "<div>\n<style>\n    .dataframe thead tr:only-child th {\n        text-align: right;\n    }\n\n    .dataframe thead th {\n        text-align: left;\n    }\n\n    .dataframe tbody tr th {\n        vertical-align: top;\n    }\n</style>\n<table border=\"1\" class=\"dataframe\">\n  <thead>\n    <tr style=\"text-align: right;\">\n      <th></th>\n      <th>pollutant</th>\n    </tr>\n  </thead>\n  <tbody>\n    <tr>\n      <th>0</th>\n      <td>bc</td>\n    </tr>\n    <tr>\n      <th>1</th>\n      <td>co</td>\n    </tr>\n  </tbody>\n</table>\n</div>"
          },
          "metadata": {}
        }
      ]
    },
    {
      "metadata": {
        "trusted": true,
        "_uuid": "b348d4e760d8d9e06e546e5e43ac830206f402b4"
      },
      "cell_type": "code",
      "source": "zero_pollutant['pollutant'].value_counts().head()",
      "execution_count": 32,
      "outputs": [
        {
          "output_type": "execute_result",
          "execution_count": 32,
          "data": {
            "text/plain": "so2     357\nno2     153\nco      114\npm10     99\no3       91\nName: pollutant, dtype: int64"
          },
          "metadata": {}
        }
      ]
    },
    {
      "metadata": {
        "_cell_guid": "a2313b92-8f03-41e3-a28b-99a0f54397b2",
        "_uuid": "b0f920e6fc8e371f7b4ad10ff7015526552a19d5"
      },
      "cell_type": "markdown",
      "source": "Please feel free to ask any questions you have in this notebook or in the [Q&A forums](https://www.kaggle.com/questions-and-answers)! \n\nAlso, if you want to share or get comments on your kernel, remember you need to make it public first! You can change the visibility of your kernel under the \"Settings\" tab, on the right half of your screen."
    }
  ],
  "metadata": {
    "kernelspec": {
      "display_name": "Python 3",
      "language": "python",
      "name": "python3"
    },
    "language_info": {
      "name": "python",
      "version": "3.6.4",
      "mimetype": "text/x-python",
      "codemirror_mode": {
        "name": "ipython",
        "version": 3
      },
      "pygments_lexer": "ipython3",
      "nbconvert_exporter": "python",
      "file_extension": ".py"
    }
  },
  "nbformat": 4,
  "nbformat_minor": 1
}